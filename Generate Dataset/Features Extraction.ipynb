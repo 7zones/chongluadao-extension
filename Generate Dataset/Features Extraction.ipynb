{
 "cells": [
  {
   "cell_type": "code",
   "execution_count": 2,
   "metadata": {},
   "outputs": [],
   "source": [
    "from urllib.parse import urlparse,urlencode\n",
    "import ipaddress\n",
    "import re\n",
    "from bs4 import BeautifulSoup\n",
    "import whois\n",
    "import urllib\n",
    "import urllib.request\n",
    "from datetime import datetime\n",
    "import requests"
   ]
  },
  {
   "cell_type": "code",
   "execution_count": 2,
   "metadata": {},
   "outputs": [
    {
     "name": "stdout",
     "output_type": "stream",
     "text": [
      "Requirement already satisfied: python-whois in c:\\users\\watch dogs\\anaconda3\\lib\\site-packages (0.7.3)\n",
      "Requirement already satisfied: future in c:\\users\\watch dogs\\anaconda3\\lib\\site-packages (from python-whois) (0.18.2)\n"
     ]
    }
   ],
   "source": [
    "! pip install python-whois"
   ]
  },
  {
   "cell_type": "code",
   "execution_count": 3,
   "metadata": {},
   "outputs": [],
   "source": [
    "url = 'https://github.com/aidenpearce001/'"
   ]
  },
  {
   "cell_type": "code",
   "execution_count": 3,
   "metadata": {},
   "outputs": [],
   "source": [
    "# Virustotal URL Scanning\n",
    "\n",
    "requests = \"https://www.virustotal.com/gui/home/url\""
   ]
  },
  {
   "cell_type": "markdown",
   "metadata": {},
   "source": [
    "### Punnycode\n",
    "references: https://stackoverflow.com/questions/14313849/how-to-validate-internationalized-domain-names"
   ]
  },
  {
   "cell_type": "code",
   "execution_count": 29,
   "metadata": {},
   "outputs": [
    {
     "name": "stdout",
     "output_type": "stream",
     "text": [
      "xn--pfarmer-t2a.com\n"
     ]
    },
    {
     "data": {
      "text/plain": [
       "1"
      ]
     },
     "execution_count": 29,
     "metadata": {},
     "output_type": "execute_result"
    }
   ],
   "source": [
    "def punny(iri):\n",
    "    if isinstance(iri, str):\n",
    "        (scheme, netloc, path, query, fragment) = urlsplit(iri)\n",
    "        scheme = quote(scheme)\n",
    "        netloc = netloc.encode('idna').decode('utf-8')\n",
    "        print(netloc)\n",
    "        if 'xn--' in netloc:\n",
    "            return 1\n",
    "        else :\n",
    "            return 0\n",
    "    \n",
    "punny(\"http://pfarmerü.com\")"
   ]
  },
  {
   "cell_type": "markdown",
   "metadata": {},
   "source": [
    "<b>or"
   ]
  },
  {
   "cell_type": "code",
   "execution_count": 4,
   "metadata": {},
   "outputs": [
    {
     "name": "stdout",
     "output_type": "stream",
     "text": [
      "INVALID\n"
     ]
    }
   ],
   "source": [
    "punny_url = \"http://pfarmerü.com\"\n",
    "vaild_regex = \"/^(http|https|ftp):\\/\\/([A-Z0-9][A-Z0-9_-]*(?:\\.[A-Z0-9][A-Z0-9_-]*)+):?(\\d+)?\\/?/i\"\n",
    "if re.match(vaild_regex,punny_url):\n",
    "    print('OK')\n",
    "else:\n",
    "    print(\"INVALID\")"
   ]
  },
  {
   "cell_type": "code",
   "execution_count": 7,
   "metadata": {},
   "outputs": [],
   "source": [
    "domain = re.findall(r\"://([^/]+)/?\", url)[0]\n",
    "if re.match(r\"^www.\", domain):\n",
    "    domain = domain.replace(\"www.\", \"\")\n",
    "whois_response = whois.whois(domain)"
   ]
  },
  {
   "cell_type": "code",
   "execution_count": 9,
   "metadata": {},
   "outputs": [
    {
     "data": {
      "text/plain": [
       "'github.com'"
      ]
     },
     "execution_count": 9,
     "metadata": {},
     "output_type": "execute_result"
    }
   ],
   "source": [
    "domain"
   ]
  },
  {
   "cell_type": "markdown",
   "metadata": {},
   "source": [
    "### page rank"
   ]
  },
  {
   "cell_type": "code",
   "execution_count": 17,
   "metadata": {},
   "outputs": [],
   "source": [
    "domain = re.findall(r\"://([^/]+)/?\", url)[0]\n",
    "if re.match(r\"^www.\", domain):\n",
    "    domain = domain.replace(\"www.\", \"\")\n",
    "whois_response = whois.whois(domain)\n",
    "\n",
    "payload={\"name\": domain }\n",
    "\n",
    "rank_checker_response = requests.get(\"https://www.checkpagerank.net/index.php\", data=payload)\n",
    "try:\n",
    "    global_rank = int(re.findall(\n",
    "        r\"Global Rank: ([0-9]+)\", rank_checker_response.text)[0])\n",
    "except:\n",
    "    global_rank = -1\n"
   ]
  },
  {
   "cell_type": "code",
   "execution_count": 18,
   "metadata": {},
   "outputs": [],
   "source": [
    "rank_checker_response = requests.get(\"https://www.checkpagerank.net/index.php\", data=payload)"
   ]
  },
  {
   "cell_type": "code",
   "execution_count": 20,
   "metadata": {},
   "outputs": [
    {
     "ename": "IndexError",
     "evalue": "list index out of range",
     "output_type": "error",
     "traceback": [
      "\u001b[1;31m---------------------------------------------------------------------------\u001b[0m",
      "\u001b[1;31mIndexError\u001b[0m                                Traceback (most recent call last)",
      "\u001b[1;32m<ipython-input-20-ad25bb18ac7e>\u001b[0m in \u001b[0;36m<module>\u001b[1;34m\u001b[0m\n\u001b[1;32m----> 1\u001b[1;33m \u001b[0mint\u001b[0m\u001b[1;33m(\u001b[0m\u001b[0mre\u001b[0m\u001b[1;33m.\u001b[0m\u001b[0mfindall\u001b[0m\u001b[1;33m(\u001b[0m\u001b[1;34mr\"Global Rank: ([0-9]+)\"\u001b[0m\u001b[1;33m,\u001b[0m \u001b[0mrank_checker_response\u001b[0m\u001b[1;33m.\u001b[0m\u001b[0mtext\u001b[0m\u001b[1;33m)\u001b[0m\u001b[1;33m[\u001b[0m\u001b[1;36m0\u001b[0m\u001b[1;33m]\u001b[0m\u001b[1;33m)\u001b[0m\u001b[1;33m\u001b[0m\u001b[1;33m\u001b[0m\u001b[0m\n\u001b[0m",
      "\u001b[1;31mIndexError\u001b[0m: list index out of range"
     ]
    }
   ],
   "source": [
    "int(re.findall(r\"Global Rank: ([0-9]+)\", rank_checker_response.text)[0])"
   ]
  },
  {
   "cell_type": "markdown",
   "metadata": {},
   "source": [
    "## Favicon"
   ]
  },
  {
   "cell_type": "markdown",
   "metadata": {},
   "source": [
    "<i>If the favicon not belong to the domain then it's phishing"
   ]
  },
  {
   "cell_type": "code",
   "execution_count": null,
   "metadata": {},
   "outputs": [],
   "source": [
    "import favicon \n",
    "def favicon(url):\n",
    "    domain = re.findall(r\"://([^/]+)/?\", url)[0]\n",
    "    \n",
    "    icons = favicon.get(url)\n",
    "    verify_icon \n",
    "    \n",
    "    for _ in range(len(icons)):\n",
    "        if domain not in icons[_].url:\n",
    "            return 1 \n",
    "        else return "
   ]
  },
  {
   "cell_type": "markdown",
   "metadata": {},
   "source": [
    "## Validate domain and subdomain"
   ]
  },
  {
   "cell_type": "code",
   "execution_count": 9,
   "metadata": {},
   "outputs": [
    {
     "name": "stdout",
     "output_type": "stream",
     "text": [
      "None\n"
     ]
    }
   ],
   "source": [
    "\n",
    "url = 'https://github.com/'\n",
    "val = \"/^([a-z]+\\:\\/{2})?([\\w-]+\\.[\\w-]+\\.\\w+)$/\"\n",
    "\n",
    "print(re.match(val, url))"
   ]
  },
  {
   "cell_type": "code",
   "execution_count": 8,
   "metadata": {},
   "outputs": [],
   "source": [
    "def mouseOver(response): \n",
    "        if response == \"\" :\n",
    "            return 1\n",
    "        else:\n",
    "            if re.findall(\"<script>.+onmouseover.+</script>\", response.text):\n",
    "                return 1\n",
    "            else:\n",
    "                return 0\n",
    "    \n",
    "    # 17.Checks the status of the right click attribute (Right_Click)\n",
    "def rightClick(response):\n",
    "    if response == \"\":\n",
    "        return 1\n",
    "    else:\n",
    "        if re.findall(r\"event.button ?== ?2\", response.text):\n",
    "            return 0\n",
    "        else:\n",
    "            return 1"
   ]
  },
  {
   "cell_type": "code",
   "execution_count": null,
   "metadata": {},
   "outputs": [],
   "source": []
  }
 ],
 "metadata": {
  "kernelspec": {
   "display_name": "Python 3",
   "language": "python",
   "name": "python3"
  },
  "language_info": {
   "codemirror_mode": {
    "name": "ipython",
    "version": 3
   },
   "file_extension": ".py",
   "mimetype": "text/x-python",
   "name": "python",
   "nbconvert_exporter": "python",
   "pygments_lexer": "ipython3",
   "version": "3.8.5"
  }
 },
 "nbformat": 4,
 "nbformat_minor": 4
}
